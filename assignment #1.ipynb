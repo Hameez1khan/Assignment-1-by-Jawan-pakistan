{
 "cells": [
  {
   "cell_type": "code",
   "execution_count": 1,
   "id": "eb28dd03",
   "metadata": {},
   "outputs": [
    {
     "name": "stdout",
     "output_type": "stream",
     "text": [
      "Twinkle,twinkle, little star,\n",
      "        How I wonder what you are\n",
      "                Up above the world so high,\n",
      "                Like a diamond in the sky.\n",
      "Twinkle,twinkle,little star,\n",
      "        How i wonder what you are\n"
     ]
    }
   ],
   "source": [
    "print(\"Twinkle,twinkle, little star,\");\n",
    "print(\"        How I wonder what you are\");\n",
    "print(\"                Up above the world so high,\");\n",
    "print(\"                Like a diamond in the sky.\");\n",
    "print(\"Twinkle,twinkle,little star,\");\n",
    "print(\"        How i wonder what you are\");"
   ]
  },
  {
   "cell_type": "code",
   "execution_count": 2,
   "id": "e7b48fc7",
   "metadata": {},
   "outputs": [
    {
     "name": "stdout",
     "output_type": "stream",
     "text": [
      "Python version\n",
      "3.9.7 (default, Sep 16 2021, 16:59:28) [MSC v.1916 64 bit (AMD64)]\n",
      "Version info\n",
      "sys.version_info(major=3, minor=9, micro=7, releaselevel='final', serial=0)\n"
     ]
    }
   ],
   "source": [
    "import sys\n",
    "print(\"Python version\");\n",
    "print(sys.version);\n",
    "print(\"Version info\");\n",
    "print(sys.version_info);"
   ]
  },
  {
   "cell_type": "code",
   "execution_count": 3,
   "id": "0e948fcd",
   "metadata": {},
   "outputs": [
    {
     "name": "stdout",
     "output_type": "stream",
     "text": [
      "Current date and time is 2021-12-30 00:12:27.466426\n"
     ]
    }
   ],
   "source": [
    "import datetime;\n",
    "now = datetime.datetime.now();\n",
    "print(\"Current date and time is\",now);"
   ]
  },
  {
   "cell_type": "code",
   "execution_count": 4,
   "id": "53edacdb",
   "metadata": {},
   "outputs": [
    {
     "name": "stdout",
     "output_type": "stream",
     "text": [
      "Enter the radius of circle:5\n",
      "Area of circle with radius 5.0 is 78.53981633974483\n"
     ]
    }
   ],
   "source": [
    "from math import pi;\n",
    "r = float(input(\"Enter the radius of circle:\"));\n",
    "print(\"Area of circle with radius \" + str(r) + \" is \" + str(pi * r**2) )"
   ]
  },
  {
   "cell_type": "code",
   "execution_count": 5,
   "id": "d9cc2498",
   "metadata": {},
   "outputs": [
    {
     "name": "stdout",
     "output_type": "stream",
     "text": [
      "Enter your first name:Muhammad hameez\n",
      "Enter your last name:Khan\n",
      "Hello Khan Muhammad hameez\n"
     ]
    }
   ],
   "source": [
    "f = input(\"Enter your first name:\");\n",
    "l = input(\"Enter your last name:\");\n",
    "print(\"Hello \" + l + \" \" + f)"
   ]
  },
  {
   "cell_type": "code",
   "execution_count": 6,
   "id": "6b45a31a",
   "metadata": {},
   "outputs": [
    {
     "name": "stdout",
     "output_type": "stream",
     "text": [
      "Enter first number:5\n",
      "Enter second number:28\n",
      "Sum : 33\n"
     ]
    }
   ],
   "source": [
    "num1 = int(input(\"Enter first number:\"));\n",
    "num2 = int(input(\"Enter second number:\"));\n",
    "a = num1 + num2\n",
    "print(\"Sum :\",a)"
   ]
  },
  {
   "cell_type": "code",
   "execution_count": null,
   "id": "6feae59e",
   "metadata": {},
   "outputs": [],
   "source": []
  }
 ],
 "metadata": {
  "kernelspec": {
   "display_name": "Python 3 (ipykernel)",
   "language": "python",
   "name": "python3"
  },
  "language_info": {
   "codemirror_mode": {
    "name": "ipython",
    "version": 3
   },
   "file_extension": ".py",
   "mimetype": "text/x-python",
   "name": "python",
   "nbconvert_exporter": "python",
   "pygments_lexer": "ipython3",
   "version": "3.9.7"
  }
 },
 "nbformat": 4,
 "nbformat_minor": 5
}
